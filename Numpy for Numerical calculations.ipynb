{
 "cells": [
  {
   "cell_type": "markdown",
   "id": "966bb41c",
   "metadata": {},
   "source": [
    "1- Introduction to Numpy"
   ]
  },
  {
   "cell_type": "code",
   "execution_count": 1,
   "id": "ab7b3b34",
   "metadata": {},
   "outputs": [],
   "source": [
    "# import numpy as np\n",
    "import numpy as np"
   ]
  },
  {
   "cell_type": "code",
   "execution_count": 3,
   "id": "67178c9d",
   "metadata": {},
   "outputs": [],
   "source": [
    "# Create two new lists weight and height\n",
    "person_height = [5.2, 5.4, 5.6,5.7,6]\n",
    "person_weight = [70,60,65,76,75]\n",
    "\n",
    "# Create two numpy array from weight and height\n",
    "person_height = np.array(person_height)\n",
    "person_weight = np.array(person_weight)"
   ]
  },
  {
   "cell_type": "code",
   "execution_count": 6,
   "id": "7b7b2598",
   "metadata": {},
   "outputs": [
    {
     "data": {
      "text/plain": [
       "array([5.2, 5.4, 5.6, 5.7, 6. ])"
      ]
     },
     "execution_count": 6,
     "metadata": {},
     "output_type": "execute_result"
    }
   ],
   "source": [
    "# print person_height and person_weight arrays\n",
    "person_height\n"
   ]
  },
  {
   "cell_type": "code",
   "execution_count": 7,
   "id": "b5df4f87",
   "metadata": {},
   "outputs": [
    {
     "data": {
      "text/plain": [
       "array([70, 60, 65, 76, 75])"
      ]
     },
     "execution_count": 7,
     "metadata": {},
     "output_type": "execute_result"
    }
   ],
   "source": [
    "person_weight"
   ]
  },
  {
   "cell_type": "code",
   "execution_count": 8,
   "id": "1109acf3",
   "metadata": {},
   "outputs": [
    {
     "name": "stdout",
     "output_type": "stream",
     "text": [
      "<class 'numpy.ndarray'>\n"
     ]
    }
   ],
   "source": [
    "# print type of person height\n",
    "print(type(person_height))"
   ]
  },
  {
   "cell_type": "markdown",
   "id": "2002c42f",
   "metadata": {},
   "source": [
    "2- Indexing an array\n",
    "\n",
    "Indexing in 1_dimension"
   ]
  },
  {
   "cell_type": "code",
   "execution_count": 9,
   "id": "96e563e0",
   "metadata": {},
   "outputs": [
    {
     "name": "stdout",
     "output_type": "stream",
     "text": [
      "[72 75 87 76 56]\n"
     ]
    }
   ],
   "source": [
    "# creating an array\n",
    "my_array = np.array([72,75,87,76,56])\n",
    "print(my_array)"
   ]
  },
  {
   "cell_type": "markdown",
   "id": "eb115876",
   "metadata": {},
   "source": [
    "Each element in the array can be  accessed by passing the positional index of the element"
   ]
  },
  {
   "cell_type": "code",
   "execution_count": 10,
   "id": "3e0f2684",
   "metadata": {},
   "outputs": [
    {
     "name": "stdout",
     "output_type": "stream",
     "text": [
      "72\n",
      "87\n"
     ]
    }
   ],
   "source": [
    "# get the first element\n",
    "# index starts from 0\n",
    "print(my_array[0])\n",
    "# get the 3rd element\n",
    "print(my_array[2])"
   ]
  },
  {
   "cell_type": "markdown",
   "id": "12c9cba4",
   "metadata": {},
   "source": [
    "Indexing in 2_dimension"
   ]
  },
  {
   "cell_type": "code",
   "execution_count": 11,
   "id": "1693ab71",
   "metadata": {},
   "outputs": [
    {
     "data": {
      "text/plain": [
       "array([[12, 13, 14],\n",
       "       [17, 18, 19],\n",
       "       [23, 26, 21]])"
      ]
     },
     "execution_count": 11,
     "metadata": {},
     "output_type": "execute_result"
    }
   ],
   "source": [
    "my_array = np.array([[12,13,14],\n",
    "                    [17,18,19],\n",
    "                    [23,26,21]])\n",
    "my_array"
   ]
  },
  {
   "cell_type": "markdown",
   "id": "adaebf9c",
   "metadata": {},
   "source": [
    "We can retrieve an element of 2D array by using two indices i and j , i select rows and j select columns"
   ]
  },
  {
   "cell_type": "code",
   "execution_count": 12,
   "id": "5c659195",
   "metadata": {},
   "outputs": [
    {
     "name": "stdout",
     "output_type": "stream",
     "text": [
      "26\n"
     ]
    }
   ],
   "source": [
    "# Get the element in 3rd row and 2nd column\n",
    "print(my_array[2,1])"
   ]
  },
  {
   "cell_type": "code",
   "execution_count": 13,
   "id": "271bef0c",
   "metadata": {},
   "outputs": [
    {
     "name": "stdout",
     "output_type": "stream",
     "text": [
      "26\n"
     ]
    }
   ],
   "source": [
    "# we can also pass ith row and jth column in separate brackets\n",
    "print(my_array[2][1])"
   ]
  },
  {
   "cell_type": "markdown",
   "id": "9a72a983",
   "metadata": {},
   "source": [
    "picking a row and column\n",
    "\n",
    "we can also select a single row and single column"
   ]
  },
  {
   "cell_type": "code",
   "execution_count": 14,
   "id": "c739a413",
   "metadata": {},
   "outputs": [
    {
     "name": "stdout",
     "output_type": "stream",
     "text": [
      "[23 26 21]\n"
     ]
    }
   ],
   "source": [
    "# select 3rd row \n",
    "print(my_array[2])"
   ]
  },
  {
   "cell_type": "code",
   "execution_count": 15,
   "id": "6639a12a",
   "metadata": {},
   "outputs": [
    {
     "name": "stdout",
     "output_type": "stream",
     "text": [
      "[13 18 26]\n"
     ]
    }
   ],
   "source": [
    "#  select 2nd column\n",
    "print(my_array[:, 1])"
   ]
  },
  {
   "cell_type": "markdown",
   "id": "a66b747c",
   "metadata": {},
   "source": [
    "3- Slicing an array\n",
    "\n",
    "Slicing 1D array"
   ]
  },
  {
   "cell_type": "code",
   "execution_count": 17,
   "id": "07905e9b",
   "metadata": {},
   "outputs": [],
   "source": [
    "my_array = [12,35,15,17,81]"
   ]
  },
  {
   "cell_type": "code",
   "execution_count": 19,
   "id": "dce7b9d5",
   "metadata": {},
   "outputs": [
    {
     "data": {
      "text/plain": [
       "[35, 15, 17]"
      ]
     },
     "execution_count": 19,
     "metadata": {},
     "output_type": "execute_result"
    }
   ],
   "source": [
    "# pick the 2nd, 3rd and 4th ement from the array\n",
    "new_array = my_array[1:4]\n",
    "new_array"
   ]
  },
  {
   "cell_type": "markdown",
   "id": "15c4a159",
   "metadata": {},
   "source": [
    "Slicing notation specifies starts and end value [start:end] where start is inclusive but end is exclusive"
   ]
  },
  {
   "cell_type": "code",
   "execution_count": 21,
   "id": "891e052b",
   "metadata": {},
   "outputs": [
    {
     "data": {
      "text/plain": [
       "[12, 35, 15]"
      ]
     },
     "execution_count": 21,
     "metadata": {},
     "output_type": "execute_result"
    }
   ],
   "source": [
    "# first three elements\n",
    "d = my_array[:3]\n",
    "d"
   ]
  },
  {
   "cell_type": "code",
   "execution_count": 23,
   "id": "1ac56589",
   "metadata": {},
   "outputs": [
    {
     "data": {
      "text/plain": [
       "[15, 17, 81]"
      ]
     },
     "execution_count": 23,
     "metadata": {},
     "output_type": "execute_result"
    }
   ],
   "source": [
    "# all the elements from 15\n",
    "c = my_array[2:]\n",
    "c"
   ]
  },
  {
   "cell_type": "code",
   "execution_count": 24,
   "id": "be4ad4cb",
   "metadata": {},
   "outputs": [
    {
     "data": {
      "text/plain": [
       "[12, 35, 15, 17, 81]"
      ]
     },
     "execution_count": 24,
     "metadata": {},
     "output_type": "execute_result"
    }
   ],
   "source": [
    "# get the entire array\n",
    "e = my_array[:]\n",
    "e"
   ]
  },
  {
   "cell_type": "markdown",
   "id": "9074a6f3",
   "metadata": {},
   "source": [
    "Slicing 2D array"
   ]
  },
  {
   "cell_type": "code",
   "execution_count": 25,
   "id": "c566eb18",
   "metadata": {},
   "outputs": [
    {
     "data": {
      "text/plain": [
       "array([[ 1,  2,  3,  4,  5],\n",
       "       [26, 17, 76, 86, 78],\n",
       "       [25, 30, 31, 31, 32],\n",
       "       [98, 99, 97, 96, 94]])"
      ]
     },
     "execution_count": 25,
     "metadata": {},
     "output_type": "execute_result"
    }
   ],
   "source": [
    "my_array = np.array([[1,2,3,4,5],\n",
    "            [26,17,76,86,78],\n",
    "            [25,30,31,31,32],\n",
    "            [98,99,97,96,94]])\n",
    "my_array"
   ]
  },
  {
   "cell_type": "code",
   "execution_count": 26,
   "id": "498eb0e3",
   "metadata": {},
   "outputs": [
    {
     "name": "stdout",
     "output_type": "stream",
     "text": [
      "[[76 86]\n",
      " [31 31]\n",
      " [97 96]]\n"
     ]
    }
   ],
   "source": [
    "# select all rows except 1st\n",
    "# select 2nd and 3rd columns\n",
    "print(my_array[1:, 2:4])"
   ]
  },
  {
   "cell_type": "markdown",
   "id": "1ce4dfcc",
   "metadata": {},
   "source": [
    "Note: Index returns an element of array, while slice returns a list of elements"
   ]
  },
  {
   "cell_type": "markdown",
   "id": "c6bb8886",
   "metadata": {},
   "source": [
    "4- Operations on Array"
   ]
  },
  {
   "cell_type": "code",
   "execution_count": 27,
   "id": "85bae792",
   "metadata": {},
   "outputs": [],
   "source": [
    "my_array1 = np.array([120,123,124,145,176])\n",
    "my_array2 = np.arange(5)"
   ]
  },
  {
   "cell_type": "markdown",
   "id": "4995330d",
   "metadata": {},
   "source": [
    "Add the two arrays"
   ]
  },
  {
   "cell_type": "code",
   "execution_count": 28,
   "id": "dbe5b2c8",
   "metadata": {},
   "outputs": [
    {
     "data": {
      "text/plain": [
       "array([120, 124, 126, 148, 180])"
      ]
     },
     "execution_count": 28,
     "metadata": {},
     "output_type": "execute_result"
    }
   ],
   "source": [
    "my_array3 = my_array1 + my_array2\n",
    "my_array3"
   ]
  },
  {
   "cell_type": "markdown",
   "id": "6a769164",
   "metadata": {},
   "source": [
    "If you try to add two arrays with same dimensions but different elements you get an error"
   ]
  },
  {
   "cell_type": "code",
   "execution_count": 29,
   "id": "1445211a",
   "metadata": {},
   "outputs": [
    {
     "data": {
      "text/plain": [
       "array([480, 492, 496, 580, 704])"
      ]
     },
     "execution_count": 29,
     "metadata": {},
     "output_type": "execute_result"
    }
   ],
   "source": [
    "# Multiply each element in array by 4\n",
    "my_array1 * 4"
   ]
  },
  {
   "cell_type": "code",
   "execution_count": 31,
   "id": "f4622898",
   "metadata": {},
   "outputs": [
    {
     "data": {
      "text/plain": [
       "array([14400, 15129, 15376, 21025, 30976], dtype=int32)"
      ]
     },
     "execution_count": 31,
     "metadata": {},
     "output_type": "execute_result"
    }
   ],
   "source": [
    "## use '**' to compute power of each element\n",
    "my_array1 ** 2"
   ]
  },
  {
   "cell_type": "markdown",
   "id": "7a22a6d5",
   "metadata": {},
   "source": [
    "Using Numpy with Comparison Expressions"
   ]
  },
  {
   "cell_type": "code",
   "execution_count": 32,
   "id": "a547018b",
   "metadata": {},
   "outputs": [
    {
     "data": {
      "text/plain": [
       "array([False,  True,  True,  True, False])"
      ]
     },
     "execution_count": 32,
     "metadata": {},
     "output_type": "execute_result"
    }
   ],
   "source": [
    "my_array = np.array([34,43,45,76,32])\n",
    "# check which elements are greater than or equal to 40\n",
    "# the comparison condition gives boolean output\n",
    "new_array = my_array >= 40\n",
    "new_array"
   ]
  },
  {
   "cell_type": "markdown",
   "id": "f7ec86e4",
   "metadata": {},
   "source": [
    "pass the above boolean array to the main array to fetch the values that satisfy the comparison condition"
   ]
  },
  {
   "cell_type": "code",
   "execution_count": 33,
   "id": "098401d0",
   "metadata": {},
   "outputs": [
    {
     "data": {
      "text/plain": [
       "array([43, 45, 76])"
      ]
     },
     "execution_count": 33,
     "metadata": {},
     "output_type": "execute_result"
    }
   ],
   "source": [
    "# elements greater than or equal to 40\n",
    "my_array[new_array]"
   ]
  },
  {
   "cell_type": "code",
   "execution_count": 34,
   "id": "575ba82d",
   "metadata": {},
   "outputs": [
    {
     "data": {
      "text/plain": [
       "array([43, 45, 76])"
      ]
     },
     "execution_count": 34,
     "metadata": {},
     "output_type": "execute_result"
    }
   ],
   "source": [
    "my_array[my_array >= 40]"
   ]
  },
  {
   "cell_type": "markdown",
   "id": "10a6f8b4",
   "metadata": {},
   "source": [
    "5- Arithmetic functions in Numpy"
   ]
  },
  {
   "cell_type": "code",
   "execution_count": 35,
   "id": "2c858f77",
   "metadata": {},
   "outputs": [
    {
     "data": {
      "text/plain": [
       "array([1, 5, 6, 7, 9])"
      ]
     },
     "execution_count": 35,
     "metadata": {},
     "output_type": "execute_result"
    }
   ],
   "source": [
    "my_array = np.array([1,5,6,7,9])\n",
    "my_array"
   ]
  },
  {
   "cell_type": "markdown",
   "id": "30c6bf48",
   "metadata": {},
   "source": [
    "sum():\n",
    "\n",
    "sum function add all  values in the array and gives a scalar output"
   ]
  },
  {
   "cell_type": "code",
   "execution_count": 36,
   "id": "c14c9675",
   "metadata": {},
   "outputs": [
    {
     "data": {
      "text/plain": [
       "28"
      ]
     },
     "execution_count": 36,
     "metadata": {},
     "output_type": "execute_result"
    }
   ],
   "source": [
    "np.sum(my_array)"
   ]
  },
  {
   "cell_type": "code",
   "execution_count": 37,
   "id": "9a2feb2d",
   "metadata": {},
   "outputs": [
    {
     "data": {
      "text/plain": [
       "28"
      ]
     },
     "execution_count": 37,
     "metadata": {},
     "output_type": "execute_result"
    }
   ],
   "source": [
    "# add all the elements of my array\n",
    "my_array.sum()"
   ]
  },
  {
   "cell_type": "markdown",
   "id": "5d245b56",
   "metadata": {},
   "source": [
    "min(): \n",
    "\n",
    "min function finds the lowest value in the array"
   ]
  },
  {
   "cell_type": "code",
   "execution_count": 38,
   "id": "969b95b6",
   "metadata": {},
   "outputs": [
    {
     "data": {
      "text/plain": [
       "1"
      ]
     },
     "execution_count": 38,
     "metadata": {},
     "output_type": "execute_result"
    }
   ],
   "source": [
    "# find minimum of my_array\n",
    "my_array.min()"
   ]
  },
  {
   "cell_type": "markdown",
   "id": "53fc24a0",
   "metadata": {},
   "source": [
    "power():\n",
    "    \n",
    "power function raises the number in array to given value"
   ]
  },
  {
   "cell_type": "code",
   "execution_count": 39,
   "id": "4fc9c59e",
   "metadata": {},
   "outputs": [
    {
     "data": {
      "text/plain": [
       "array([  1, 125, 216, 343, 729], dtype=int32)"
      ]
     },
     "execution_count": 39,
     "metadata": {},
     "output_type": "execute_result"
    }
   ],
   "source": [
    "# get the cube of elements of my_array\n",
    "np.power(my_array, 3)"
   ]
  },
  {
   "cell_type": "code",
   "execution_count": 40,
   "id": "0a215e68",
   "metadata": {},
   "outputs": [
    {
     "data": {
      "text/plain": [
       "array([  1, 125, 216, 343, 729], dtype=int32)"
      ]
     },
     "execution_count": 40,
     "metadata": {},
     "output_type": "execute_result"
    }
   ],
   "source": [
    "my_array ** 3"
   ]
  },
  {
   "cell_type": "markdown",
   "id": "0ea8b614",
   "metadata": {},
   "source": [
    "6- Concatenate the arrays \n",
    "\n",
    "Concatenate 1D arrays"
   ]
  },
  {
   "cell_type": "code",
   "execution_count": 42,
   "id": "852f7e7d",
   "metadata": {},
   "outputs": [
    {
     "data": {
      "text/plain": [
       "array([12, 13, 14, 21, 22, 23])"
      ]
     },
     "execution_count": 42,
     "metadata": {},
     "output_type": "execute_result"
    }
   ],
   "source": [
    "# Concatenate two 1D arrays\n",
    "array_x = np.array([12,13,14])\n",
    "array_y = np.array([21,22,23])\n",
    "np.concatenate([array_x, array_y])"
   ]
  },
  {
   "cell_type": "code",
   "execution_count": 43,
   "id": "41d63afb",
   "metadata": {},
   "outputs": [
    {
     "name": "stdout",
     "output_type": "stream",
     "text": [
      "[12 13 14 21 22 23 43 56]\n"
     ]
    }
   ],
   "source": [
    "# you can also concatenate more than 2 arrays at once\n",
    "array_z = np.array([43,56])\n",
    "print(np.concatenate([array_x, array_y, array_z]))"
   ]
  },
  {
   "cell_type": "markdown",
   "id": "f6083fa7",
   "metadata": {},
   "source": [
    "Concatenate 2D array"
   ]
  },
  {
   "cell_type": "code",
   "execution_count": 44,
   "id": "c4a321fd",
   "metadata": {},
   "outputs": [
    {
     "data": {
      "text/plain": [
       "array([[1, 2, 3],\n",
       "       [4, 5, 6]])"
      ]
     },
     "execution_count": 44,
     "metadata": {},
     "output_type": "execute_result"
    }
   ],
   "source": [
    "# Create a 2D array\n",
    "my_array = np.array([[1,2,3],\n",
    "                    [4,5,6]])\n",
    "my_array"
   ]
  },
  {
   "cell_type": "code",
   "execution_count": 45,
   "id": "385bc851",
   "metadata": {},
   "outputs": [
    {
     "data": {
      "text/plain": [
       "array([[1, 2, 3],\n",
       "       [4, 5, 6],\n",
       "       [1, 2, 3],\n",
       "       [4, 5, 6]])"
      ]
     },
     "execution_count": 45,
     "metadata": {},
     "output_type": "execute_result"
    }
   ],
   "source": [
    "## Concatenate along the first axis\n",
    "# by default concatenate is along 'axis = 0'\n",
    "np.concatenate([my_array,my_array])"
   ]
  },
  {
   "cell_type": "code",
   "execution_count": 46,
   "id": "fe2c6751",
   "metadata": {},
   "outputs": [
    {
     "data": {
      "text/plain": [
       "array([[1, 2, 3, 1, 2, 3],\n",
       "       [4, 5, 6, 4, 5, 6]])"
      ]
     },
     "execution_count": 46,
     "metadata": {},
     "output_type": "execute_result"
    }
   ],
   "source": [
    "## Concatenate along the 2nd axis\n",
    "np.concatenate([my_array, my_array], axis = 1)"
   ]
  },
  {
   "cell_type": "markdown",
   "id": "155952e7",
   "metadata": {},
   "source": [
    "Concatenate 1D and 2D array\n",
    "\n",
    "Note: you can not concatenate two arrays of different dimensions"
   ]
  },
  {
   "cell_type": "markdown",
   "id": "4df14e5f",
   "metadata": {},
   "source": [
    "7- Splitting of array\n",
    "\n",
    "splitting is used to split the arrays into multiple sub_arrays. It is opposite to concatenation, which is implemented\n",
    "by the functions split(), hsplit() and so on\n",
    "\n",
    "split():"
   ]
  },
  {
   "cell_type": "code",
   "execution_count": 47,
   "id": "d9c90e1a",
   "metadata": {},
   "outputs": [
    {
     "data": {
      "text/plain": [
       "[array([0, 1, 2, 3]), array([4, 5, 6, 7])]"
      ]
     },
     "execution_count": 47,
     "metadata": {},
     "output_type": "execute_result"
    }
   ],
   "source": [
    "# split the array into sub_arrays \n",
    "array_x = np.arange(8)\n",
    "np.split(array_x, 2)"
   ]
  },
  {
   "cell_type": "code",
   "execution_count": 48,
   "id": "c227c34f",
   "metadata": {},
   "outputs": [
    {
     "data": {
      "text/plain": [
       "[array([0, 1, 2, 3, 4]), array([5, 6]), array([7])]"
      ]
     },
     "execution_count": 48,
     "metadata": {},
     "output_type": "execute_result"
    }
   ],
   "source": [
    "## Split the 1D array at indicated positions \n",
    "# split occurs at 6th and 7th indices\n",
    "\n",
    "array_y = np.split(array_x,[5,7])\n",
    "array_y"
   ]
  },
  {
   "cell_type": "markdown",
   "id": "87b6f253",
   "metadata": {},
   "source": [
    "split array_x into 3 equal arrays \n",
    "\n",
    "split() function does not allow integer(N) as the number of splits, if N does not divide the array into sub_arrays of equal length\n",
    "\n",
    "array_split(): It is used to split the arrays into sub_arrays. It takes the integer 'N' as the input of number of splits,even if 'N' does not divide the array into sub_arrays of equal length"
   ]
  },
  {
   "cell_type": "code",
   "execution_count": 49,
   "id": "a4da0b7e",
   "metadata": {},
   "outputs": [
    {
     "data": {
      "text/plain": [
       "[array([0, 1, 2]), array([3, 4, 5]), array([6, 7])]"
      ]
     },
     "execution_count": 49,
     "metadata": {},
     "output_type": "execute_result"
    }
   ],
   "source": [
    "# split array_x into 3 sub_arrays using array_split\n",
    "np.array_split(array_x, 3)"
   ]
  },
  {
   "cell_type": "markdown",
   "id": "60ad9db0",
   "metadata": {},
   "source": [
    "We split an array of length 8 into 3 sub_arrays, the function array_split() returns 8 % 3(=2) sub_arrays of size 8/3 + 1(=3) and the rest one sub_array of size 8/3(=2)\n",
    "\n",
    "vsplit():\n",
    "\n",
    "The vsplit() is used to split an array into ,multiple sub_arrays vertically(row_wise)"
   ]
  },
  {
   "cell_type": "code",
   "execution_count": 50,
   "id": "194cb532",
   "metadata": {},
   "outputs": [
    {
     "data": {
      "text/plain": [
       "array([[ 0,  1,  2,  3,  4],\n",
       "       [ 5,  6,  7,  8,  9],\n",
       "       [10, 11, 12, 13, 14],\n",
       "       [15, 16, 17, 18, 19]])"
      ]
     },
     "execution_count": 50,
     "metadata": {},
     "output_type": "execute_result"
    }
   ],
   "source": [
    "my_array = np.arange(20).reshape(4,5)\n",
    "my_array"
   ]
  },
  {
   "cell_type": "code",
   "execution_count": 51,
   "id": "38acaf95",
   "metadata": {},
   "outputs": [
    {
     "data": {
      "text/plain": [
       "[array([[0, 1, 2, 3, 4],\n",
       "        [5, 6, 7, 8, 9]]),\n",
       " array([[10, 11, 12, 13, 14],\n",
       "        [15, 16, 17, 18, 19]])]"
      ]
     },
     "execution_count": 51,
     "metadata": {},
     "output_type": "execute_result"
    }
   ],
   "source": [
    "np.vsplit(my_array,2)"
   ]
  },
  {
   "cell_type": "markdown",
   "id": "268e69bb",
   "metadata": {},
   "source": [
    "hsplit():\n",
    "\n",
    "The hsplit() function used to split an array  into mulptipe sub_arrays horizontally(column_wise)"
   ]
  },
  {
   "cell_type": "code",
   "execution_count": 52,
   "id": "fbe5d5e3",
   "metadata": {},
   "outputs": [
    {
     "data": {
      "text/plain": [
       "array([[ 0.,  1.,  2.,  3.],\n",
       "       [ 4.,  5.,  6.,  7.],\n",
       "       [ 8.,  9., 10., 11.],\n",
       "       [12., 13., 14., 15.]])"
      ]
     },
     "execution_count": 52,
     "metadata": {},
     "output_type": "execute_result"
    }
   ],
   "source": [
    "my_array = np.arange(16.0).reshape(4,4)\n",
    "my_array"
   ]
  },
  {
   "cell_type": "code",
   "execution_count": 53,
   "id": "294bd08e",
   "metadata": {},
   "outputs": [
    {
     "data": {
      "text/plain": [
       "[array([[ 0.,  1.],\n",
       "        [ 4.,  5.],\n",
       "        [ 8.,  9.],\n",
       "        [12., 13.]]),\n",
       " array([[ 2.,  3.],\n",
       "        [ 6.,  7.],\n",
       "        [10., 11.],\n",
       "        [14., 15.]])]"
      ]
     },
     "execution_count": 53,
     "metadata": {},
     "output_type": "execute_result"
    }
   ],
   "source": [
    "np.hsplit(my_array, 2)"
   ]
  },
  {
   "cell_type": "code",
   "execution_count": null,
   "id": "b6e5b567",
   "metadata": {},
   "outputs": [],
   "source": []
  }
 ],
 "metadata": {
  "kernelspec": {
   "display_name": "Python 3 (ipykernel)",
   "language": "python",
   "name": "python3"
  },
  "language_info": {
   "codemirror_mode": {
    "name": "ipython",
    "version": 3
   },
   "file_extension": ".py",
   "mimetype": "text/x-python",
   "name": "python",
   "nbconvert_exporter": "python",
   "pygments_lexer": "ipython3",
   "version": "3.9.7"
  }
 },
 "nbformat": 4,
 "nbformat_minor": 5
}
