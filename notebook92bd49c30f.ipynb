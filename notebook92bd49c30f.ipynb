{
 "cells": [
  {
   "cell_type": "code",
   "execution_count": 1,
   "id": "d04f6dc3",
   "metadata": {
    "_cell_guid": "b1076dfc-b9ad-4769-8c92-a6c4dae69d19",
    "_uuid": "8f2839f25d086af736a60e9eeb907d3b93b6e0e5",
    "execution": {
     "iopub.execute_input": "2023-11-18T12:00:44.021528Z",
     "iopub.status.busy": "2023-11-18T12:00:44.020542Z",
     "iopub.status.idle": "2023-11-18T12:00:46.524523Z",
     "shell.execute_reply": "2023-11-18T12:00:46.523208Z"
    },
    "papermill": {
     "duration": 2.513867,
     "end_time": "2023-11-18T12:00:46.527467",
     "exception": false,
     "start_time": "2023-11-18T12:00:44.013600",
     "status": "completed"
    },
    "tags": []
   },
   "outputs": [],
   "source": [
    "# 1- Load the dataset\n",
    "import pandas as pd\n",
    "import numpy as np\n",
    "import matplotlib.pyplot as plt\n",
    "import seaborn as sns\n",
    "from sklearn.model_selection import train_test_split\n",
    "from sklearn.ensemble import RandomForestClassifier\n",
    "from sklearn.metrics import accuracy_score\n"
   ]
  },
  {
   "cell_type": "code",
   "execution_count": 2,
   "id": "3847a57a",
   "metadata": {
    "execution": {
     "iopub.execute_input": "2023-11-18T12:00:46.541003Z",
     "iopub.status.busy": "2023-11-18T12:00:46.540431Z",
     "iopub.status.idle": "2023-11-18T12:00:46.574721Z",
     "shell.execute_reply": "2023-11-18T12:00:46.573738Z"
    },
    "papermill": {
     "duration": 0.043392,
     "end_time": "2023-11-18T12:00:46.577939",
     "exception": false,
     "start_time": "2023-11-18T12:00:46.534547",
     "status": "completed"
    },
    "tags": []
   },
   "outputs": [],
   "source": [
    "# Load the training and testing datasets\n",
    "train_data = pd.read_csv('/kaggle/input/titanic/train.csv')\n",
    "test_data = pd.read_csv('/kaggle/input/titanic/test.csv')\n"
   ]
  },
  {
   "cell_type": "code",
   "execution_count": 3,
   "id": "43108f00",
   "metadata": {
    "execution": {
     "iopub.execute_input": "2023-11-18T12:00:46.588988Z",
     "iopub.status.busy": "2023-11-18T12:00:46.588549Z",
     "iopub.status.idle": "2023-11-18T12:00:46.641664Z",
     "shell.execute_reply": "2023-11-18T12:00:46.640367Z"
    },
    "papermill": {
     "duration": 0.061895,
     "end_time": "2023-11-18T12:00:46.644460",
     "exception": false,
     "start_time": "2023-11-18T12:00:46.582565",
     "status": "completed"
    },
    "tags": []
   },
   "outputs": [
    {
     "name": "stdout",
     "output_type": "stream",
     "text": [
      "   PassengerId  Survived  Pclass  \\\n",
      "0            1         0       3   \n",
      "1            2         1       1   \n",
      "2            3         1       3   \n",
      "3            4         1       1   \n",
      "4            5         0       3   \n",
      "\n",
      "                                                Name     Sex   Age  SibSp  \\\n",
      "0                            Braund, Mr. Owen Harris    male  22.0      1   \n",
      "1  Cumings, Mrs. John Bradley (Florence Briggs Th...  female  38.0      1   \n",
      "2                             Heikkinen, Miss. Laina  female  26.0      0   \n",
      "3       Futrelle, Mrs. Jacques Heath (Lily May Peel)  female  35.0      1   \n",
      "4                           Allen, Mr. William Henry    male  35.0      0   \n",
      "\n",
      "   Parch            Ticket     Fare Cabin Embarked  \n",
      "0      0         A/5 21171   7.2500   NaN        S  \n",
      "1      0          PC 17599  71.2833   C85        C  \n",
      "2      0  STON/O2. 3101282   7.9250   NaN        S  \n",
      "3      0            113803  53.1000  C123        S  \n",
      "4      0            373450   8.0500   NaN        S  \n",
      "       PassengerId    Survived      Pclass         Age       SibSp  \\\n",
      "count   891.000000  891.000000  891.000000  714.000000  891.000000   \n",
      "mean    446.000000    0.383838    2.308642   29.699118    0.523008   \n",
      "std     257.353842    0.486592    0.836071   14.526497    1.102743   \n",
      "min       1.000000    0.000000    1.000000    0.420000    0.000000   \n",
      "25%     223.500000    0.000000    2.000000   20.125000    0.000000   \n",
      "50%     446.000000    0.000000    3.000000   28.000000    0.000000   \n",
      "75%     668.500000    1.000000    3.000000   38.000000    1.000000   \n",
      "max     891.000000    1.000000    3.000000   80.000000    8.000000   \n",
      "\n",
      "            Parch        Fare  \n",
      "count  891.000000  891.000000  \n",
      "mean     0.381594   32.204208  \n",
      "std      0.806057   49.693429  \n",
      "min      0.000000    0.000000  \n",
      "25%      0.000000    7.910400  \n",
      "50%      0.000000   14.454200  \n",
      "75%      0.000000   31.000000  \n",
      "max      6.000000  512.329200  \n",
      "PassengerId      0\n",
      "Survived         0\n",
      "Pclass           0\n",
      "Name             0\n",
      "Sex              0\n",
      "Age            177\n",
      "SibSp            0\n",
      "Parch            0\n",
      "Ticket           0\n",
      "Fare             0\n",
      "Cabin          687\n",
      "Embarked         2\n",
      "dtype: int64\n"
     ]
    }
   ],
   "source": [
    "# 2- EDA\n",
    "\n",
    "# Display the first few rows of the training dataset\n",
    "print(train_data.head())\n",
    "\n",
    "# Display summary statistics of the training dataset\n",
    "print(train_data.describe())\n",
    "\n",
    "# Check for missing values\n",
    "print(train_data.isnull().sum())\n",
    "\n"
   ]
  },
  {
   "cell_type": "code",
   "execution_count": 4,
   "id": "885ad750",
   "metadata": {
    "execution": {
     "iopub.execute_input": "2023-11-18T12:00:46.656212Z",
     "iopub.status.busy": "2023-11-18T12:00:46.655823Z",
     "iopub.status.idle": "2023-11-18T12:00:46.682975Z",
     "shell.execute_reply": "2023-11-18T12:00:46.681833Z"
    },
    "papermill": {
     "duration": 0.036276,
     "end_time": "2023-11-18T12:00:46.685681",
     "exception": false,
     "start_time": "2023-11-18T12:00:46.649405",
     "status": "completed"
    },
    "tags": []
   },
   "outputs": [],
   "source": [
    "# Handle missing values\n",
    "train_data['Age'].fillna(train_data['Age'].median(), inplace=True)\n",
    "test_data['Age'].fillna(test_data['Age'].median(), inplace=True)\n",
    "train_data['Embarked'].fillna(train_data['Embarked'].mode()[0], inplace=True)\n",
    "test_data['Fare'].fillna(test_data['Fare'].median(), inplace=True)\n",
    "\n",
    "# Convert categorical variables to numerical\n",
    "train_data['Sex'] = train_data['Sex'].map({'male': 0, 'female': 1})\n",
    "test_data['Sex'] = test_data['Sex'].map({'male': 0, 'female': 1})\n",
    "\n",
    "# Select features\n",
    "features = ['Pclass', 'Sex', 'Age', 'SibSp', 'Parch']\n",
    "X = train_data[features]\n",
    "y = train_data['Survived']\n"
   ]
  },
  {
   "cell_type": "code",
   "execution_count": 5,
   "id": "2fb2cc0f",
   "metadata": {
    "execution": {
     "iopub.execute_input": "2023-11-18T12:00:46.697385Z",
     "iopub.status.busy": "2023-11-18T12:00:46.696936Z",
     "iopub.status.idle": "2023-11-18T12:00:46.705844Z",
     "shell.execute_reply": "2023-11-18T12:00:46.704719Z"
    },
    "papermill": {
     "duration": 0.017775,
     "end_time": "2023-11-18T12:00:46.708574",
     "exception": false,
     "start_time": "2023-11-18T12:00:46.690799",
     "status": "completed"
    },
    "tags": []
   },
   "outputs": [],
   "source": [
    "# 3 train_test split \n",
    "X_train, X_val, y_train, y_val = train_test_split(X, y, test_size=0.2, random_state=42)\n"
   ]
  },
  {
   "cell_type": "code",
   "execution_count": 6,
   "id": "77dee479",
   "metadata": {
    "execution": {
     "iopub.execute_input": "2023-11-18T12:00:46.722027Z",
     "iopub.status.busy": "2023-11-18T12:00:46.720492Z",
     "iopub.status.idle": "2023-11-18T12:00:47.003866Z",
     "shell.execute_reply": "2023-11-18T12:00:47.002627Z"
    },
    "papermill": {
     "duration": 0.293056,
     "end_time": "2023-11-18T12:00:47.006431",
     "exception": false,
     "start_time": "2023-11-18T12:00:46.713375",
     "status": "completed"
    },
    "tags": []
   },
   "outputs": [
    {
     "data": {
      "text/html": [
       "<style>#sk-container-id-1 {color: black;background-color: white;}#sk-container-id-1 pre{padding: 0;}#sk-container-id-1 div.sk-toggleable {background-color: white;}#sk-container-id-1 label.sk-toggleable__label {cursor: pointer;display: block;width: 100%;margin-bottom: 0;padding: 0.3em;box-sizing: border-box;text-align: center;}#sk-container-id-1 label.sk-toggleable__label-arrow:before {content: \"▸\";float: left;margin-right: 0.25em;color: #696969;}#sk-container-id-1 label.sk-toggleable__label-arrow:hover:before {color: black;}#sk-container-id-1 div.sk-estimator:hover label.sk-toggleable__label-arrow:before {color: black;}#sk-container-id-1 div.sk-toggleable__content {max-height: 0;max-width: 0;overflow: hidden;text-align: left;background-color: #f0f8ff;}#sk-container-id-1 div.sk-toggleable__content pre {margin: 0.2em;color: black;border-radius: 0.25em;background-color: #f0f8ff;}#sk-container-id-1 input.sk-toggleable__control:checked~div.sk-toggleable__content {max-height: 200px;max-width: 100%;overflow: auto;}#sk-container-id-1 input.sk-toggleable__control:checked~label.sk-toggleable__label-arrow:before {content: \"▾\";}#sk-container-id-1 div.sk-estimator input.sk-toggleable__control:checked~label.sk-toggleable__label {background-color: #d4ebff;}#sk-container-id-1 div.sk-label input.sk-toggleable__control:checked~label.sk-toggleable__label {background-color: #d4ebff;}#sk-container-id-1 input.sk-hidden--visually {border: 0;clip: rect(1px 1px 1px 1px);clip: rect(1px, 1px, 1px, 1px);height: 1px;margin: -1px;overflow: hidden;padding: 0;position: absolute;width: 1px;}#sk-container-id-1 div.sk-estimator {font-family: monospace;background-color: #f0f8ff;border: 1px dotted black;border-radius: 0.25em;box-sizing: border-box;margin-bottom: 0.5em;}#sk-container-id-1 div.sk-estimator:hover {background-color: #d4ebff;}#sk-container-id-1 div.sk-parallel-item::after {content: \"\";width: 100%;border-bottom: 1px solid gray;flex-grow: 1;}#sk-container-id-1 div.sk-label:hover label.sk-toggleable__label {background-color: #d4ebff;}#sk-container-id-1 div.sk-serial::before {content: \"\";position: absolute;border-left: 1px solid gray;box-sizing: border-box;top: 0;bottom: 0;left: 50%;z-index: 0;}#sk-container-id-1 div.sk-serial {display: flex;flex-direction: column;align-items: center;background-color: white;padding-right: 0.2em;padding-left: 0.2em;position: relative;}#sk-container-id-1 div.sk-item {position: relative;z-index: 1;}#sk-container-id-1 div.sk-parallel {display: flex;align-items: stretch;justify-content: center;background-color: white;position: relative;}#sk-container-id-1 div.sk-item::before, #sk-container-id-1 div.sk-parallel-item::before {content: \"\";position: absolute;border-left: 1px solid gray;box-sizing: border-box;top: 0;bottom: 0;left: 50%;z-index: -1;}#sk-container-id-1 div.sk-parallel-item {display: flex;flex-direction: column;z-index: 1;position: relative;background-color: white;}#sk-container-id-1 div.sk-parallel-item:first-child::after {align-self: flex-end;width: 50%;}#sk-container-id-1 div.sk-parallel-item:last-child::after {align-self: flex-start;width: 50%;}#sk-container-id-1 div.sk-parallel-item:only-child::after {width: 0;}#sk-container-id-1 div.sk-dashed-wrapped {border: 1px dashed gray;margin: 0 0.4em 0.5em 0.4em;box-sizing: border-box;padding-bottom: 0.4em;background-color: white;}#sk-container-id-1 div.sk-label label {font-family: monospace;font-weight: bold;display: inline-block;line-height: 1.2em;}#sk-container-id-1 div.sk-label-container {text-align: center;}#sk-container-id-1 div.sk-container {/* jupyter's `normalize.less` sets `[hidden] { display: none; }` but bootstrap.min.css set `[hidden] { display: none !important; }` so we also need the `!important` here to be able to override the default hidden behavior on the sphinx rendered scikit-learn.org. See: https://github.com/scikit-learn/scikit-learn/issues/21755 */display: inline-block !important;position: relative;}#sk-container-id-1 div.sk-text-repr-fallback {display: none;}</style><div id=\"sk-container-id-1\" class=\"sk-top-container\"><div class=\"sk-text-repr-fallback\"><pre>RandomForestClassifier(random_state=42)</pre><b>In a Jupyter environment, please rerun this cell to show the HTML representation or trust the notebook. <br />On GitHub, the HTML representation is unable to render, please try loading this page with nbviewer.org.</b></div><div class=\"sk-container\" hidden><div class=\"sk-item\"><div class=\"sk-estimator sk-toggleable\"><input class=\"sk-toggleable__control sk-hidden--visually\" id=\"sk-estimator-id-1\" type=\"checkbox\" checked><label for=\"sk-estimator-id-1\" class=\"sk-toggleable__label sk-toggleable__label-arrow\">RandomForestClassifier</label><div class=\"sk-toggleable__content\"><pre>RandomForestClassifier(random_state=42)</pre></div></div></div></div></div>"
      ],
      "text/plain": [
       "RandomForestClassifier(random_state=42)"
      ]
     },
     "execution_count": 6,
     "metadata": {},
     "output_type": "execute_result"
    }
   ],
   "source": [
    "# 4- train model\n",
    "model = RandomForestClassifier(random_state=42)\n",
    "model.fit(X_train, y_train)\n"
   ]
  },
  {
   "cell_type": "code",
   "execution_count": 7,
   "id": "d93a603c",
   "metadata": {
    "execution": {
     "iopub.execute_input": "2023-11-18T12:00:47.018733Z",
     "iopub.status.busy": "2023-11-18T12:00:47.018327Z",
     "iopub.status.idle": "2023-11-18T12:00:47.036204Z",
     "shell.execute_reply": "2023-11-18T12:00:47.035046Z"
    },
    "papermill": {
     "duration": 0.027361,
     "end_time": "2023-11-18T12:00:47.038975",
     "exception": false,
     "start_time": "2023-11-18T12:00:47.011614",
     "status": "completed"
    },
    "tags": []
   },
   "outputs": [],
   "source": [
    "# 5- Make predictions \n",
    "predictions = model.predict(X_val)\n"
   ]
  },
  {
   "cell_type": "code",
   "execution_count": 8,
   "id": "178c5310",
   "metadata": {
    "execution": {
     "iopub.execute_input": "2023-11-18T12:00:47.051306Z",
     "iopub.status.busy": "2023-11-18T12:00:47.050641Z",
     "iopub.status.idle": "2023-11-18T12:00:47.059032Z",
     "shell.execute_reply": "2023-11-18T12:00:47.057798Z"
    },
    "papermill": {
     "duration": 0.017496,
     "end_time": "2023-11-18T12:00:47.061613",
     "exception": false,
     "start_time": "2023-11-18T12:00:47.044117",
     "status": "completed"
    },
    "tags": []
   },
   "outputs": [
    {
     "name": "stdout",
     "output_type": "stream",
     "text": [
      "Accuracy: 0.8156424581005587\n"
     ]
    }
   ],
   "source": [
    "#  6- Evaluate Model\n",
    "accuracy = accuracy_score(y_val, predictions)\n",
    "print(f'Accuracy: {accuracy}')\n"
   ]
  },
  {
   "cell_type": "code",
   "execution_count": 9,
   "id": "bf884b80",
   "metadata": {
    "execution": {
     "iopub.execute_input": "2023-11-18T12:00:47.074037Z",
     "iopub.status.busy": "2023-11-18T12:00:47.073550Z",
     "iopub.status.idle": "2023-11-18T12:00:47.096474Z",
     "shell.execute_reply": "2023-11-18T12:00:47.095212Z"
    },
    "papermill": {
     "duration": 0.032429,
     "end_time": "2023-11-18T12:00:47.099278",
     "exception": false,
     "start_time": "2023-11-18T12:00:47.066849",
     "status": "completed"
    },
    "tags": []
   },
   "outputs": [],
   "source": [
    "# 7- Make Predictions on Test Data\n",
    "# Use the trained model to make predictions on the test data\n",
    "\n",
    "X_test = test_data[features]\n",
    "test_predictions = model.predict(X_test)\n"
   ]
  },
  {
   "cell_type": "code",
   "execution_count": 10,
   "id": "ab5b503a",
   "metadata": {
    "execution": {
     "iopub.execute_input": "2023-11-18T12:00:47.111969Z",
     "iopub.status.busy": "2023-11-18T12:00:47.111530Z",
     "iopub.status.idle": "2023-11-18T12:00:47.122055Z",
     "shell.execute_reply": "2023-11-18T12:00:47.121054Z"
    },
    "papermill": {
     "duration": 0.020156,
     "end_time": "2023-11-18T12:00:47.124782",
     "exception": false,
     "start_time": "2023-11-18T12:00:47.104626",
     "status": "completed"
    },
    "tags": []
   },
   "outputs": [],
   "source": [
    "#  8- Create Submission File\n",
    "submission = pd.DataFrame({'PassengerId': test_data['PassengerId'], 'Survived': test_predictions})\n",
    "submission.to_csv('submission.csv', index=False)\n"
   ]
  },
  {
   "cell_type": "code",
   "execution_count": null,
   "id": "dfffb50e",
   "metadata": {
    "papermill": {
     "duration": 0.005052,
     "end_time": "2023-11-18T12:00:47.135231",
     "exception": false,
     "start_time": "2023-11-18T12:00:47.130179",
     "status": "completed"
    },
    "tags": []
   },
   "outputs": [],
   "source": []
  }
 ],
 "metadata": {
  "kaggle": {
   "accelerator": "none",
   "dataSources": [
    {
     "databundleVersionId": 26502,
     "sourceId": 3136,
     "sourceType": "competition"
    }
   ],
   "dockerImageVersionId": 30587,
   "isGpuEnabled": false,
   "isInternetEnabled": true,
   "language": "python",
   "sourceType": "notebook"
  },
  "kernelspec": {
   "display_name": "Python 3",
   "language": "python",
   "name": "python3"
  },
  "language_info": {
   "codemirror_mode": {
    "name": "ipython",
    "version": 3
   },
   "file_extension": ".py",
   "mimetype": "text/x-python",
   "name": "python",
   "nbconvert_exporter": "python",
   "pygments_lexer": "ipython3",
   "version": "3.10.12"
  },
  "papermill": {
   "default_parameters": {},
   "duration": 7.412088,
   "end_time": "2023-11-18T12:00:47.862657",
   "environment_variables": {},
   "exception": null,
   "input_path": "__notebook__.ipynb",
   "output_path": "__notebook__.ipynb",
   "parameters": {},
   "start_time": "2023-11-18T12:00:40.450569",
   "version": "2.4.0"
  }
 },
 "nbformat": 4,
 "nbformat_minor": 5
}
